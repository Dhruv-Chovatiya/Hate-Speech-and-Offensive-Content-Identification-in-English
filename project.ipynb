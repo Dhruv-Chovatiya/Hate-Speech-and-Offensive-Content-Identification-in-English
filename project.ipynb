{
  "nbformat": 4,
  "nbformat_minor": 0,
  "metadata": {
    "colab": {
      "name": "project.ipynb",
      "provenance": [],
      "collapsed_sections": []
    },
    "kernelspec": {
      "name": "python3",
      "display_name": "Python 3"
    },
    "language_info": {
      "name": "python"
    }
  },
  "cells": [
    {
      "cell_type": "code",
      "metadata": {
        "id": "KV9yBdmqjdJw"
      },
      "source": [
        "from gensim.models import KeyedVectors\n",
        "from gensim.models.wrappers import FastText\n",
        "from gensim.models import FastText\n",
        "\n"
      ],
      "execution_count": null,
      "outputs": []
    },
    {
      "cell_type": "code",
      "metadata": {
        "id": "GZgP_cbcjdJ8"
      },
      "source": [
        "import itertools\n",
        "from gensim.models.word2vec import Text8Corpus\n",
        "#from glove import Corpus, Glove\n",
        "import pandas as pd\n",
        "import numpy as np\n",
        "import matplotlib.pyplot as plt\n",
        "#import seaborn as sns\n",
        "from sklearn.model_selection import train_test_split\n",
        "from sklearn.preprocessing import LabelEncoder\n",
        "from keras.models import Model\n",
        "from keras.layers import LSTM, Activation, Dense, Dropout, Input, Embedding\n",
        "from tensorflow.keras.optimizers import RMSprop\n",
        "from keras.preprocessing.text import Tokenizer\n",
        "from keras.preprocessing import sequence\n",
        "#from keras.utils import to_categorical\n",
        "from keras.callbacks import EarlyStopping\n",
        "from tqdm import tqdm\n",
        "tqdm.pandas(desc=\"progress-bar\")\n",
        "import gensim\n",
        "from gensim.models.word2vec import Word2Vec\n",
        "from gensim.models.doc2vec import TaggedDocument\n",
        "import multiprocessing\n",
        "from sklearn import utils\n",
        "%matplotlib inline"
      ],
      "execution_count": null,
      "outputs": []
    },
    {
      "cell_type": "code",
      "metadata": {
        "id": "kc4mzkpFjdKC"
      },
      "source": [
        "# provide sql-like data manipulation tools. very handy.\n",
        "import pandas as pd \n",
        "pd.options.mode.chained_assignment = None\n",
        "\n",
        "# high dimensional vector computing library.\n",
        "import numpy as np \n",
        "from copy import deepcopy\n",
        "from string import punctuation\n",
        "from random import shuffle\n",
        "\n",
        "import gensim\n",
        "\n",
        "# the word2vec model gensim class\n",
        "from gensim.models.word2vec import Word2Vec \n",
        "\n",
        "# we'll talk about this down below\n",
        "LabeledSentence = gensim.models.doc2vec.LabeledSentence \n",
        "\n",
        "from tqdm import tqdm\n",
        "tqdm.pandas(desc=\"progress-bar\")\n",
        "\n",
        "# a tweet tokenizer from nltk.\n",
        "from nltk.tokenize import TweetTokenizer \n",
        "tokenizer = TweetTokenizer()\n",
        "\n",
        "from sklearn.model_selection import train_test_split\n",
        "from sklearn.feature_extraction.text import TfidfVectorizer"
      ],
      "execution_count": null,
      "outputs": []
    },
    {
      "cell_type": "code",
      "metadata": {
        "id": "nmJlK_bclxRC",
        "colab": {
          "base_uri": "https://localhost:8080/"
        },
        "outputId": "4e5ebe98-5b7f-4a16-da36-179fb133d59d"
      },
      "source": [
        "from google.colab import drive\n",
        "drive.mount('/content/gdrive')"
      ],
      "execution_count": null,
      "outputs": [
        {
          "output_type": "stream",
          "name": "stdout",
          "text": [
            "Mounted at /content/gdrive\n"
          ]
        }
      ]
    },
    {
      "cell_type": "code",
      "metadata": {
        "id": "bapfnCCwjdKF"
      },
      "source": [
        "train_df= pd.read_csv('/content/gdrive/MyDrive/Colab Notebooks/AMI/dataset/taska.txt',header=None,sep='\\t',names=['id','text','class'])\n",
        "#valid_df= pd.read_csv('/content/gdrive/My Drive/Colab Notebooks/AMI/dataset/agr_en_dev.csv',header=None,names=['id','text','class'])\n",
        "\n",
        "#test_df = pd.read_csv('/content/gdrive/My Drive/Colab Notebooks/AMI/dataset/agr_en_fb_gold.csv',header=None,names=['id','text','class'])\n"
      ],
      "execution_count": null,
      "outputs": []
    },
    {
      "cell_type": "code",
      "source": [
        "train_df"
      ],
      "metadata": {
        "colab": {
          "base_uri": "https://localhost:8080/",
          "height": 423
        },
        "id": "s7rgulFjEzQ7",
        "outputId": "e230f036-bd4d-45ba-bd96-91e0af3daa17"
      },
      "execution_count": null,
      "outputs": [
        {
          "output_type": "execute_result",
          "data": {
            "text/html": [
              "\n",
              "  <div id=\"df-d1fd252c-8e6b-4f96-9c90-c086f3c37872\">\n",
              "    <div class=\"colab-df-container\">\n",
              "      <div>\n",
              "<style scoped>\n",
              "    .dataframe tbody tr th:only-of-type {\n",
              "        vertical-align: middle;\n",
              "    }\n",
              "\n",
              "    .dataframe tbody tr th {\n",
              "        vertical-align: top;\n",
              "    }\n",
              "\n",
              "    .dataframe thead th {\n",
              "        text-align: right;\n",
              "    }\n",
              "</style>\n",
              "<table border=\"1\" class=\"dataframe\">\n",
              "  <thead>\n",
              "    <tr style=\"text-align: right;\">\n",
              "      <th></th>\n",
              "      <th>id</th>\n",
              "      <th>text</th>\n",
              "      <th>class</th>\n",
              "    </tr>\n",
              "  </thead>\n",
              "  <tbody>\n",
              "    <tr>\n",
              "      <th>0</th>\n",
              "      <td>86426</td>\n",
              "      <td>@USER She should ask a few native Americans wh...</td>\n",
              "      <td>OFF</td>\n",
              "    </tr>\n",
              "    <tr>\n",
              "      <th>1</th>\n",
              "      <td>90194</td>\n",
              "      <td>@USER @USER Go home you’re drunk!!! @USER #MAG...</td>\n",
              "      <td>OFF</td>\n",
              "    </tr>\n",
              "    <tr>\n",
              "      <th>2</th>\n",
              "      <td>16820</td>\n",
              "      <td>Amazon is investigating Chinese employees who ...</td>\n",
              "      <td>NOT</td>\n",
              "    </tr>\n",
              "    <tr>\n",
              "      <th>3</th>\n",
              "      <td>62688</td>\n",
              "      <td>@USER Someone should'veTaken\" this piece of sh...</td>\n",
              "      <td>OFF</td>\n",
              "    </tr>\n",
              "    <tr>\n",
              "      <th>4</th>\n",
              "      <td>43605</td>\n",
              "      <td>@USER @USER Obama wanted liberals &amp;amp; illega...</td>\n",
              "      <td>NOT</td>\n",
              "    </tr>\n",
              "    <tr>\n",
              "      <th>...</th>\n",
              "      <td>...</td>\n",
              "      <td>...</td>\n",
              "      <td>...</td>\n",
              "    </tr>\n",
              "    <tr>\n",
              "      <th>13235</th>\n",
              "      <td>95338</td>\n",
              "      <td>@USER Sometimes I get strong vibes from people...</td>\n",
              "      <td>OFF</td>\n",
              "    </tr>\n",
              "    <tr>\n",
              "      <th>13236</th>\n",
              "      <td>67210</td>\n",
              "      <td>Benidorm ✅  Creamfields ✅  Maga ✅   Not too sh...</td>\n",
              "      <td>NOT</td>\n",
              "    </tr>\n",
              "    <tr>\n",
              "      <th>13237</th>\n",
              "      <td>82921</td>\n",
              "      <td>@USER And why report this garbage.  We don't g...</td>\n",
              "      <td>OFF</td>\n",
              "    </tr>\n",
              "    <tr>\n",
              "      <th>13238</th>\n",
              "      <td>27429</td>\n",
              "      <td>@USER Pussy</td>\n",
              "      <td>OFF</td>\n",
              "    </tr>\n",
              "    <tr>\n",
              "      <th>13239</th>\n",
              "      <td>46552</td>\n",
              "      <td>#Spanishrevenge vs. #justice #HumanRights and ...</td>\n",
              "      <td>NOT</td>\n",
              "    </tr>\n",
              "  </tbody>\n",
              "</table>\n",
              "<p>13240 rows × 3 columns</p>\n",
              "</div>\n",
              "      <button class=\"colab-df-convert\" onclick=\"convertToInteractive('df-d1fd252c-8e6b-4f96-9c90-c086f3c37872')\"\n",
              "              title=\"Convert this dataframe to an interactive table.\"\n",
              "              style=\"display:none;\">\n",
              "        \n",
              "  <svg xmlns=\"http://www.w3.org/2000/svg\" height=\"24px\"viewBox=\"0 0 24 24\"\n",
              "       width=\"24px\">\n",
              "    <path d=\"M0 0h24v24H0V0z\" fill=\"none\"/>\n",
              "    <path d=\"M18.56 5.44l.94 2.06.94-2.06 2.06-.94-2.06-.94-.94-2.06-.94 2.06-2.06.94zm-11 1L8.5 8.5l.94-2.06 2.06-.94-2.06-.94L8.5 2.5l-.94 2.06-2.06.94zm10 10l.94 2.06.94-2.06 2.06-.94-2.06-.94-.94-2.06-.94 2.06-2.06.94z\"/><path d=\"M17.41 7.96l-1.37-1.37c-.4-.4-.92-.59-1.43-.59-.52 0-1.04.2-1.43.59L10.3 9.45l-7.72 7.72c-.78.78-.78 2.05 0 2.83L4 21.41c.39.39.9.59 1.41.59.51 0 1.02-.2 1.41-.59l7.78-7.78 2.81-2.81c.8-.78.8-2.07 0-2.86zM5.41 20L4 18.59l7.72-7.72 1.47 1.35L5.41 20z\"/>\n",
              "  </svg>\n",
              "      </button>\n",
              "      \n",
              "  <style>\n",
              "    .colab-df-container {\n",
              "      display:flex;\n",
              "      flex-wrap:wrap;\n",
              "      gap: 12px;\n",
              "    }\n",
              "\n",
              "    .colab-df-convert {\n",
              "      background-color: #E8F0FE;\n",
              "      border: none;\n",
              "      border-radius: 50%;\n",
              "      cursor: pointer;\n",
              "      display: none;\n",
              "      fill: #1967D2;\n",
              "      height: 32px;\n",
              "      padding: 0 0 0 0;\n",
              "      width: 32px;\n",
              "    }\n",
              "\n",
              "    .colab-df-convert:hover {\n",
              "      background-color: #E2EBFA;\n",
              "      box-shadow: 0px 1px 2px rgba(60, 64, 67, 0.3), 0px 1px 3px 1px rgba(60, 64, 67, 0.15);\n",
              "      fill: #174EA6;\n",
              "    }\n",
              "\n",
              "    [theme=dark] .colab-df-convert {\n",
              "      background-color: #3B4455;\n",
              "      fill: #D2E3FC;\n",
              "    }\n",
              "\n",
              "    [theme=dark] .colab-df-convert:hover {\n",
              "      background-color: #434B5C;\n",
              "      box-shadow: 0px 1px 3px 1px rgba(0, 0, 0, 0.15);\n",
              "      filter: drop-shadow(0px 1px 2px rgba(0, 0, 0, 0.3));\n",
              "      fill: #FFFFFF;\n",
              "    }\n",
              "  </style>\n",
              "\n",
              "      <script>\n",
              "        const buttonEl =\n",
              "          document.querySelector('#df-d1fd252c-8e6b-4f96-9c90-c086f3c37872 button.colab-df-convert');\n",
              "        buttonEl.style.display =\n",
              "          google.colab.kernel.accessAllowed ? 'block' : 'none';\n",
              "\n",
              "        async function convertToInteractive(key) {\n",
              "          const element = document.querySelector('#df-d1fd252c-8e6b-4f96-9c90-c086f3c37872');\n",
              "          const dataTable =\n",
              "            await google.colab.kernel.invokeFunction('convertToInteractive',\n",
              "                                                     [key], {});\n",
              "          if (!dataTable) return;\n",
              "\n",
              "          const docLinkHtml = 'Like what you see? Visit the ' +\n",
              "            '<a target=\"_blank\" href=https://colab.research.google.com/notebooks/data_table.ipynb>data table notebook</a>'\n",
              "            + ' to learn more about interactive tables.';\n",
              "          element.innerHTML = '';\n",
              "          dataTable['output_type'] = 'display_data';\n",
              "          await google.colab.output.renderOutput(dataTable, element);\n",
              "          const docLink = document.createElement('div');\n",
              "          docLink.innerHTML = docLinkHtml;\n",
              "          element.appendChild(docLink);\n",
              "        }\n",
              "      </script>\n",
              "    </div>\n",
              "  </div>\n",
              "  "
            ],
            "text/plain": [
              "          id                                               text class\n",
              "0      86426  @USER She should ask a few native Americans wh...   OFF\n",
              "1      90194  @USER @USER Go home you’re drunk!!! @USER #MAG...   OFF\n",
              "2      16820  Amazon is investigating Chinese employees who ...   NOT\n",
              "3      62688  @USER Someone should'veTaken\" this piece of sh...   OFF\n",
              "4      43605  @USER @USER Obama wanted liberals &amp; illega...   NOT\n",
              "...      ...                                                ...   ...\n",
              "13235  95338  @USER Sometimes I get strong vibes from people...   OFF\n",
              "13236  67210  Benidorm ✅  Creamfields ✅  Maga ✅   Not too sh...   NOT\n",
              "13237  82921  @USER And why report this garbage.  We don't g...   OFF\n",
              "13238  27429                                        @USER Pussy   OFF\n",
              "13239  46552  #Spanishrevenge vs. #justice #HumanRights and ...   NOT\n",
              "\n",
              "[13240 rows x 3 columns]"
            ]
          },
          "metadata": {},
          "execution_count": 6
        }
      ]
    },
    {
      "cell_type": "code",
      "metadata": {
        "id": "iQbm7GAUu56L"
      },
      "source": [
        "# train.info()\n",
        "# train.head()\n",
        "# train['class'].value_counts()"
      ],
      "execution_count": null,
      "outputs": []
    },
    {
      "cell_type": "code",
      "metadata": {
        "id": "hsyPoHQmjdKI",
        "colab": {
          "base_uri": "https://localhost:8080/",
          "height": 206
        },
        "outputId": "bbd98b1f-89c5-4ddc-aafb-ee24d3d03bda"
      },
      "source": [
        "import re\n",
        "def clean_text(comment):\n",
        "    comment = comment.strip().strip('\"')\n",
        "    comment = comment.replace('_', ' ')\n",
        "    comment = comment.replace(\"\\\\\\\\\", \"\\\\\")\n",
        "    comment = comment.replace('\\\\n', ' ')\n",
        "    comment = comment.replace('\\\\n', ' ')\n",
        "    comment = comment.lower()\n",
        "    comment = re.sub(r'@[A-Za-z0-9]+','',comment)\n",
        "    \n",
        "    comment = re.sub('https?://[A-Za-z0-9./]+','',comment)\n",
        "    commment = re.sub(\"[^a-zA-Z]\", \" \", comment)\n",
        "    comment = re.sub(r'[^\\w\\s]','',comment)\n",
        "\n",
        "    \n",
        "    return comment\n",
        "\n",
        "train_df['text'] = train_df['text'].fillna(\"something\").values\n",
        "train_df['ctext']=train_df['text'].apply(clean_text)\n",
        "#train_df_df['ctext']=train_df_df['text']\n",
        "#valid_df['ctext']=valid_df['text'].apply(clean_text)\n",
        "#test_df['ctext']=test_df['text'].apply(clean_text)\n",
        "train_df.head()\n"
      ],
      "execution_count": null,
      "outputs": [
        {
          "output_type": "execute_result",
          "data": {
            "text/html": [
              "\n",
              "  <div id=\"df-14e702e0-9651-473a-819d-4c26707562ec\">\n",
              "    <div class=\"colab-df-container\">\n",
              "      <div>\n",
              "<style scoped>\n",
              "    .dataframe tbody tr th:only-of-type {\n",
              "        vertical-align: middle;\n",
              "    }\n",
              "\n",
              "    .dataframe tbody tr th {\n",
              "        vertical-align: top;\n",
              "    }\n",
              "\n",
              "    .dataframe thead th {\n",
              "        text-align: right;\n",
              "    }\n",
              "</style>\n",
              "<table border=\"1\" class=\"dataframe\">\n",
              "  <thead>\n",
              "    <tr style=\"text-align: right;\">\n",
              "      <th></th>\n",
              "      <th>id</th>\n",
              "      <th>text</th>\n",
              "      <th>class</th>\n",
              "      <th>ctext</th>\n",
              "    </tr>\n",
              "  </thead>\n",
              "  <tbody>\n",
              "    <tr>\n",
              "      <th>0</th>\n",
              "      <td>86426</td>\n",
              "      <td>@USER She should ask a few native Americans wh...</td>\n",
              "      <td>OFF</td>\n",
              "      <td>she should ask a few native americans what th...</td>\n",
              "    </tr>\n",
              "    <tr>\n",
              "      <th>1</th>\n",
              "      <td>90194</td>\n",
              "      <td>@USER @USER Go home you’re drunk!!! @USER #MAG...</td>\n",
              "      <td>OFF</td>\n",
              "      <td>go home youre drunk  maga trump2020  url</td>\n",
              "    </tr>\n",
              "    <tr>\n",
              "      <th>2</th>\n",
              "      <td>16820</td>\n",
              "      <td>Amazon is investigating Chinese employees who ...</td>\n",
              "      <td>NOT</td>\n",
              "      <td>amazon is investigating chinese employees who ...</td>\n",
              "    </tr>\n",
              "    <tr>\n",
              "      <th>3</th>\n",
              "      <td>62688</td>\n",
              "      <td>@USER Someone should'veTaken\" this piece of sh...</td>\n",
              "      <td>OFF</td>\n",
              "      <td>someone shouldvetaken this piece of shit to a...</td>\n",
              "    </tr>\n",
              "    <tr>\n",
              "      <th>4</th>\n",
              "      <td>43605</td>\n",
              "      <td>@USER @USER Obama wanted liberals &amp;amp; illega...</td>\n",
              "      <td>NOT</td>\n",
              "      <td>obama wanted liberals amp illegals to move i...</td>\n",
              "    </tr>\n",
              "  </tbody>\n",
              "</table>\n",
              "</div>\n",
              "      <button class=\"colab-df-convert\" onclick=\"convertToInteractive('df-14e702e0-9651-473a-819d-4c26707562ec')\"\n",
              "              title=\"Convert this dataframe to an interactive table.\"\n",
              "              style=\"display:none;\">\n",
              "        \n",
              "  <svg xmlns=\"http://www.w3.org/2000/svg\" height=\"24px\"viewBox=\"0 0 24 24\"\n",
              "       width=\"24px\">\n",
              "    <path d=\"M0 0h24v24H0V0z\" fill=\"none\"/>\n",
              "    <path d=\"M18.56 5.44l.94 2.06.94-2.06 2.06-.94-2.06-.94-.94-2.06-.94 2.06-2.06.94zm-11 1L8.5 8.5l.94-2.06 2.06-.94-2.06-.94L8.5 2.5l-.94 2.06-2.06.94zm10 10l.94 2.06.94-2.06 2.06-.94-2.06-.94-.94-2.06-.94 2.06-2.06.94z\"/><path d=\"M17.41 7.96l-1.37-1.37c-.4-.4-.92-.59-1.43-.59-.52 0-1.04.2-1.43.59L10.3 9.45l-7.72 7.72c-.78.78-.78 2.05 0 2.83L4 21.41c.39.39.9.59 1.41.59.51 0 1.02-.2 1.41-.59l7.78-7.78 2.81-2.81c.8-.78.8-2.07 0-2.86zM5.41 20L4 18.59l7.72-7.72 1.47 1.35L5.41 20z\"/>\n",
              "  </svg>\n",
              "      </button>\n",
              "      \n",
              "  <style>\n",
              "    .colab-df-container {\n",
              "      display:flex;\n",
              "      flex-wrap:wrap;\n",
              "      gap: 12px;\n",
              "    }\n",
              "\n",
              "    .colab-df-convert {\n",
              "      background-color: #E8F0FE;\n",
              "      border: none;\n",
              "      border-radius: 50%;\n",
              "      cursor: pointer;\n",
              "      display: none;\n",
              "      fill: #1967D2;\n",
              "      height: 32px;\n",
              "      padding: 0 0 0 0;\n",
              "      width: 32px;\n",
              "    }\n",
              "\n",
              "    .colab-df-convert:hover {\n",
              "      background-color: #E2EBFA;\n",
              "      box-shadow: 0px 1px 2px rgba(60, 64, 67, 0.3), 0px 1px 3px 1px rgba(60, 64, 67, 0.15);\n",
              "      fill: #174EA6;\n",
              "    }\n",
              "\n",
              "    [theme=dark] .colab-df-convert {\n",
              "      background-color: #3B4455;\n",
              "      fill: #D2E3FC;\n",
              "    }\n",
              "\n",
              "    [theme=dark] .colab-df-convert:hover {\n",
              "      background-color: #434B5C;\n",
              "      box-shadow: 0px 1px 3px 1px rgba(0, 0, 0, 0.15);\n",
              "      filter: drop-shadow(0px 1px 2px rgba(0, 0, 0, 0.3));\n",
              "      fill: #FFFFFF;\n",
              "    }\n",
              "  </style>\n",
              "\n",
              "      <script>\n",
              "        const buttonEl =\n",
              "          document.querySelector('#df-14e702e0-9651-473a-819d-4c26707562ec button.colab-df-convert');\n",
              "        buttonEl.style.display =\n",
              "          google.colab.kernel.accessAllowed ? 'block' : 'none';\n",
              "\n",
              "        async function convertToInteractive(key) {\n",
              "          const element = document.querySelector('#df-14e702e0-9651-473a-819d-4c26707562ec');\n",
              "          const dataTable =\n",
              "            await google.colab.kernel.invokeFunction('convertToInteractive',\n",
              "                                                     [key], {});\n",
              "          if (!dataTable) return;\n",
              "\n",
              "          const docLinkHtml = 'Like what you see? Visit the ' +\n",
              "            '<a target=\"_blank\" href=https://colab.research.google.com/notebooks/data_table.ipynb>data table notebook</a>'\n",
              "            + ' to learn more about interactive tables.';\n",
              "          element.innerHTML = '';\n",
              "          dataTable['output_type'] = 'display_data';\n",
              "          await google.colab.output.renderOutput(dataTable, element);\n",
              "          const docLink = document.createElement('div');\n",
              "          docLink.innerHTML = docLinkHtml;\n",
              "          element.appendChild(docLink);\n",
              "        }\n",
              "      </script>\n",
              "    </div>\n",
              "  </div>\n",
              "  "
            ],
            "text/plain": [
              "      id                                               text class  \\\n",
              "0  86426  @USER She should ask a few native Americans wh...   OFF   \n",
              "1  90194  @USER @USER Go home you’re drunk!!! @USER #MAG...   OFF   \n",
              "2  16820  Amazon is investigating Chinese employees who ...   NOT   \n",
              "3  62688  @USER Someone should'veTaken\" this piece of sh...   OFF   \n",
              "4  43605  @USER @USER Obama wanted liberals &amp; illega...   NOT   \n",
              "\n",
              "                                               ctext  \n",
              "0   she should ask a few native americans what th...  \n",
              "1           go home youre drunk  maga trump2020  url  \n",
              "2  amazon is investigating chinese employees who ...  \n",
              "3   someone shouldvetaken this piece of shit to a...  \n",
              "4    obama wanted liberals amp illegals to move i...  "
            ]
          },
          "metadata": {},
          "execution_count": 8
        }
      ]
    },
    {
      "cell_type": "code",
      "metadata": {
        "id": "XfFib4IVzhMa"
      },
      "source": [
        "\n",
        "#tr=train_df[train_df['text']=='something']\n",
        "#tr.head()"
      ],
      "execution_count": null,
      "outputs": []
    },
    {
      "cell_type": "code",
      "metadata": {
        "id": "QSZtRWUEjdKL"
      },
      "source": [
        "#train_df['text'] = train_df['text'].fillna(\"something\").values\n",
        "train_df['class'] = train_df['class'].map({'OFF': 0, 'NOT': 1})\n"
      ],
      "execution_count": null,
      "outputs": []
    },
    {
      "cell_type": "code",
      "metadata": {
        "id": "gYRwceo6-qsL"
      },
      "source": [
        "#train_df, test_df = train_test_split(train,test_size = 0.1)\n"
      ],
      "execution_count": null,
      "outputs": []
    },
    {
      "cell_type": "code",
      "metadata": {
        "id": "8-LT_MCQjdKN",
        "colab": {
          "base_uri": "https://localhost:8080/"
        },
        "outputId": "4e5c78fa-e2fe-43dd-ae03-80d46edc4b6d"
      },
      "source": [
        "import nltk\n",
        "nltk.download('punkt')\n",
        "train_df['tokenized_sents'] = train_df.apply(lambda row: nltk.word_tokenize(row['ctext']), axis=1)\n",
        "#test_df['tokenized_sents'] = test_df.apply(lambda row: nltk.word_tokenize(row['ctext']), axis=1)\n"
      ],
      "execution_count": null,
      "outputs": [
        {
          "output_type": "stream",
          "name": "stdout",
          "text": [
            "[nltk_data] Downloading package punkt to /root/nltk_data...\n",
            "[nltk_data]   Unzipping tokenizers/punkt.zip.\n"
          ]
        }
      ]
    },
    {
      "cell_type": "code",
      "metadata": {
        "colab": {
          "base_uri": "https://localhost:8080/",
          "height": 337
        },
        "id": "4wHg32CZAgdS",
        "outputId": "46a5d6b0-fb37-4299-ef4d-f75c57b36e2f"
      },
      "source": [
        "train_df.head()"
      ],
      "execution_count": null,
      "outputs": [
        {
          "output_type": "execute_result",
          "data": {
            "text/html": [
              "\n",
              "  <div id=\"df-6fc4d4cc-4af6-4531-bdf4-71012fceee02\">\n",
              "    <div class=\"colab-df-container\">\n",
              "      <div>\n",
              "<style scoped>\n",
              "    .dataframe tbody tr th:only-of-type {\n",
              "        vertical-align: middle;\n",
              "    }\n",
              "\n",
              "    .dataframe tbody tr th {\n",
              "        vertical-align: top;\n",
              "    }\n",
              "\n",
              "    .dataframe thead th {\n",
              "        text-align: right;\n",
              "    }\n",
              "</style>\n",
              "<table border=\"1\" class=\"dataframe\">\n",
              "  <thead>\n",
              "    <tr style=\"text-align: right;\">\n",
              "      <th></th>\n",
              "      <th>id</th>\n",
              "      <th>text</th>\n",
              "      <th>class</th>\n",
              "      <th>ctext</th>\n",
              "      <th>tokenized_sents</th>\n",
              "    </tr>\n",
              "  </thead>\n",
              "  <tbody>\n",
              "    <tr>\n",
              "      <th>0</th>\n",
              "      <td>86426</td>\n",
              "      <td>@USER She should ask a few native Americans wh...</td>\n",
              "      <td>0</td>\n",
              "      <td>she should ask a few native americans what th...</td>\n",
              "      <td>[she, should, ask, a, few, native, americans, ...</td>\n",
              "    </tr>\n",
              "    <tr>\n",
              "      <th>1</th>\n",
              "      <td>90194</td>\n",
              "      <td>@USER @USER Go home you’re drunk!!! @USER #MAG...</td>\n",
              "      <td>0</td>\n",
              "      <td>go home youre drunk  maga trump2020  url</td>\n",
              "      <td>[go, home, youre, drunk, maga, trump2020, url]</td>\n",
              "    </tr>\n",
              "    <tr>\n",
              "      <th>2</th>\n",
              "      <td>16820</td>\n",
              "      <td>Amazon is investigating Chinese employees who ...</td>\n",
              "      <td>1</td>\n",
              "      <td>amazon is investigating chinese employees who ...</td>\n",
              "      <td>[amazon, is, investigating, chinese, employees...</td>\n",
              "    </tr>\n",
              "    <tr>\n",
              "      <th>3</th>\n",
              "      <td>62688</td>\n",
              "      <td>@USER Someone should'veTaken\" this piece of sh...</td>\n",
              "      <td>0</td>\n",
              "      <td>someone shouldvetaken this piece of shit to a...</td>\n",
              "      <td>[someone, shouldvetaken, this, piece, of, shit...</td>\n",
              "    </tr>\n",
              "    <tr>\n",
              "      <th>4</th>\n",
              "      <td>43605</td>\n",
              "      <td>@USER @USER Obama wanted liberals &amp;amp; illega...</td>\n",
              "      <td>1</td>\n",
              "      <td>obama wanted liberals amp illegals to move i...</td>\n",
              "      <td>[obama, wanted, liberals, amp, illegals, to, m...</td>\n",
              "    </tr>\n",
              "  </tbody>\n",
              "</table>\n",
              "</div>\n",
              "      <button class=\"colab-df-convert\" onclick=\"convertToInteractive('df-6fc4d4cc-4af6-4531-bdf4-71012fceee02')\"\n",
              "              title=\"Convert this dataframe to an interactive table.\"\n",
              "              style=\"display:none;\">\n",
              "        \n",
              "  <svg xmlns=\"http://www.w3.org/2000/svg\" height=\"24px\"viewBox=\"0 0 24 24\"\n",
              "       width=\"24px\">\n",
              "    <path d=\"M0 0h24v24H0V0z\" fill=\"none\"/>\n",
              "    <path d=\"M18.56 5.44l.94 2.06.94-2.06 2.06-.94-2.06-.94-.94-2.06-.94 2.06-2.06.94zm-11 1L8.5 8.5l.94-2.06 2.06-.94-2.06-.94L8.5 2.5l-.94 2.06-2.06.94zm10 10l.94 2.06.94-2.06 2.06-.94-2.06-.94-.94-2.06-.94 2.06-2.06.94z\"/><path d=\"M17.41 7.96l-1.37-1.37c-.4-.4-.92-.59-1.43-.59-.52 0-1.04.2-1.43.59L10.3 9.45l-7.72 7.72c-.78.78-.78 2.05 0 2.83L4 21.41c.39.39.9.59 1.41.59.51 0 1.02-.2 1.41-.59l7.78-7.78 2.81-2.81c.8-.78.8-2.07 0-2.86zM5.41 20L4 18.59l7.72-7.72 1.47 1.35L5.41 20z\"/>\n",
              "  </svg>\n",
              "      </button>\n",
              "      \n",
              "  <style>\n",
              "    .colab-df-container {\n",
              "      display:flex;\n",
              "      flex-wrap:wrap;\n",
              "      gap: 12px;\n",
              "    }\n",
              "\n",
              "    .colab-df-convert {\n",
              "      background-color: #E8F0FE;\n",
              "      border: none;\n",
              "      border-radius: 50%;\n",
              "      cursor: pointer;\n",
              "      display: none;\n",
              "      fill: #1967D2;\n",
              "      height: 32px;\n",
              "      padding: 0 0 0 0;\n",
              "      width: 32px;\n",
              "    }\n",
              "\n",
              "    .colab-df-convert:hover {\n",
              "      background-color: #E2EBFA;\n",
              "      box-shadow: 0px 1px 2px rgba(60, 64, 67, 0.3), 0px 1px 3px 1px rgba(60, 64, 67, 0.15);\n",
              "      fill: #174EA6;\n",
              "    }\n",
              "\n",
              "    [theme=dark] .colab-df-convert {\n",
              "      background-color: #3B4455;\n",
              "      fill: #D2E3FC;\n",
              "    }\n",
              "\n",
              "    [theme=dark] .colab-df-convert:hover {\n",
              "      background-color: #434B5C;\n",
              "      box-shadow: 0px 1px 3px 1px rgba(0, 0, 0, 0.15);\n",
              "      filter: drop-shadow(0px 1px 2px rgba(0, 0, 0, 0.3));\n",
              "      fill: #FFFFFF;\n",
              "    }\n",
              "  </style>\n",
              "\n",
              "      <script>\n",
              "        const buttonEl =\n",
              "          document.querySelector('#df-6fc4d4cc-4af6-4531-bdf4-71012fceee02 button.colab-df-convert');\n",
              "        buttonEl.style.display =\n",
              "          google.colab.kernel.accessAllowed ? 'block' : 'none';\n",
              "\n",
              "        async function convertToInteractive(key) {\n",
              "          const element = document.querySelector('#df-6fc4d4cc-4af6-4531-bdf4-71012fceee02');\n",
              "          const dataTable =\n",
              "            await google.colab.kernel.invokeFunction('convertToInteractive',\n",
              "                                                     [key], {});\n",
              "          if (!dataTable) return;\n",
              "\n",
              "          const docLinkHtml = 'Like what you see? Visit the ' +\n",
              "            '<a target=\"_blank\" href=https://colab.research.google.com/notebooks/data_table.ipynb>data table notebook</a>'\n",
              "            + ' to learn more about interactive tables.';\n",
              "          element.innerHTML = '';\n",
              "          dataTable['output_type'] = 'display_data';\n",
              "          await google.colab.output.renderOutput(dataTable, element);\n",
              "          const docLink = document.createElement('div');\n",
              "          docLink.innerHTML = docLinkHtml;\n",
              "          element.appendChild(docLink);\n",
              "        }\n",
              "      </script>\n",
              "    </div>\n",
              "  </div>\n",
              "  "
            ],
            "text/plain": [
              "      id                                               text  class  \\\n",
              "0  86426  @USER She should ask a few native Americans wh...      0   \n",
              "1  90194  @USER @USER Go home you’re drunk!!! @USER #MAG...      0   \n",
              "2  16820  Amazon is investigating Chinese employees who ...      1   \n",
              "3  62688  @USER Someone should'veTaken\" this piece of sh...      0   \n",
              "4  43605  @USER @USER Obama wanted liberals &amp; illega...      1   \n",
              "\n",
              "                                               ctext  \\\n",
              "0   she should ask a few native americans what th...   \n",
              "1           go home youre drunk  maga trump2020  url   \n",
              "2  amazon is investigating chinese employees who ...   \n",
              "3   someone shouldvetaken this piece of shit to a...   \n",
              "4    obama wanted liberals amp illegals to move i...   \n",
              "\n",
              "                                     tokenized_sents  \n",
              "0  [she, should, ask, a, few, native, americans, ...  \n",
              "1     [go, home, youre, drunk, maga, trump2020, url]  \n",
              "2  [amazon, is, investigating, chinese, employees...  \n",
              "3  [someone, shouldvetaken, this, piece, of, shit...  \n",
              "4  [obama, wanted, liberals, amp, illegals, to, m...  "
            ]
          },
          "metadata": {},
          "execution_count": 13
        }
      ]
    },
    {
      "cell_type": "code",
      "metadata": {
        "id": "0FkdPexWjdKQ"
      },
      "source": [
        "x_train=train_df['tokenized_sents']\n",
        "#x_test=test_df['tokenized_sents']\n",
        "\n",
        "y_train=train_df['class']\n",
        "#y_test=test_df['class']\n"
      ],
      "execution_count": null,
      "outputs": []
    },
    {
      "cell_type": "code",
      "metadata": {
        "id": "PytDaKaMjdKT",
        "colab": {
          "base_uri": "https://localhost:8080/"
        },
        "outputId": "27352a23-13f3-469f-9dbc-c2c9e190b654"
      },
      "source": [
        "def labelizeTweets(tweets, label_type):\n",
        "    labelized = []\n",
        "    for i,v in tqdm(enumerate(tweets)):\n",
        "        label = '%s_%s'%(label_type,i)\n",
        "        labelized.append(LabeledSentence(v, [label]))\n",
        "    return labelized\n",
        "\n",
        "x_train = labelizeTweets(x_train, 'TRAIN')\n",
        "\n",
        "#x_test = labelizeTweets(x_test, 'TEST')\n"
      ],
      "execution_count": null,
      "outputs": [
        {
          "output_type": "stream",
          "name": "stderr",
          "text": [
            "0it [00:00, ?it/s]/usr/local/lib/python3.7/dist-packages/ipykernel_launcher.py:5: DeprecationWarning: Call to deprecated `LabeledSentence` (Class will be removed in 4.0.0, use TaggedDocument instead).\n",
            "  \"\"\"\n",
            "13240it [00:00, 234647.37it/s]\n"
          ]
        }
      ]
    },
    {
      "cell_type": "code",
      "metadata": {
        "id": "7tZoOxMHjdKX"
      },
      "source": [
        "#tweet_w2v = FastText(size=400, min_count=1,sg=1)\n",
        "tweet_w2v = gensim.models.KeyedVectors.load_word2vec_format('/content/gdrive/MyDrive/Colab Notebooks/AMI/Pretrained Model/GoogleNews-vectors-negative300.bin', binary=True)\n",
        "# tweet_w2v = Word2Vec(size=450, min_count=1,sg=1) #SKIPGRAM\n",
        "#tweet_w2v.build_vocab([x.words for x in tqdm(x_train)])\n",
        "#tweet_w2v.train([x.words for x in tqdm(x_train)],total_examples=len(x_train),epochs=10)\n"
      ],
      "execution_count": null,
      "outputs": []
    },
    {
      "cell_type": "code",
      "metadata": {
        "id": "Lku_BDNEjdKb"
      },
      "source": [
        "#tweet_w2v.save('off-sg.vec')\n",
        "#tweet_w2v.save('fb-en-w2vec-cbow.bin')\n",
        "#tweet_w2v.wv.save_word2vec_format('fb-hi-w2vec-cbow.txt')\n",
        "#tweet_w2v = gensim.models.KeyedVectors.load_word2vec_format('/content/gdrive/MyDrive/Colab Notebooks/AMI/Pretrained_Google/GoogleNews-vectors-negative300.bin', binary=True)"
      ],
      "execution_count": null,
      "outputs": []
    },
    {
      "cell_type": "code",
      "metadata": {
        "id": "n7VFpm-VjdKd",
        "colab": {
          "base_uri": "https://localhost:8080/"
        },
        "outputId": "354fc215-1354-4dd1-b6fc-d2ca31672854"
      },
      "source": [
        "print ('building tf-idf matrix ...')\n",
        "vectorizer = TfidfVectorizer(min_df=1)\n",
        "#matrix = vectorizer.fit_transform(x_train)\n",
        "matrix = vectorizer.fit_transform(train_df['ctext'])\n",
        "\n",
        "tfidf = dict(zip(vectorizer.get_feature_names(), vectorizer.idf_))\n",
        "print ('vocab size :', len(tfidf))"
      ],
      "execution_count": null,
      "outputs": [
        {
          "output_type": "stream",
          "name": "stdout",
          "text": [
            "building tf-idf matrix ...\n",
            "vocab size : 20696\n"
          ]
        },
        {
          "output_type": "stream",
          "name": "stderr",
          "text": [
            "/usr/local/lib/python3.7/dist-packages/sklearn/utils/deprecation.py:87: FutureWarning: Function get_feature_names is deprecated; get_feature_names is deprecated in 1.0 and will be removed in 1.2. Please use get_feature_names_out instead.\n",
            "  warnings.warn(msg, category=FutureWarning)\n"
          ]
        }
      ]
    },
    {
      "cell_type": "code",
      "metadata": {
        "id": "YSS_6lDDjdKi"
      },
      "source": [
        "#tweet_w2v=FastText.load('fb-en-fasttext-sg.vec')"
      ],
      "execution_count": null,
      "outputs": []
    },
    {
      "cell_type": "code",
      "metadata": {
        "id": "U5ei0f2FjdKk"
      },
      "source": [
        "def buildWordVector(tokens, size):\n",
        "    vec = np.zeros(size).reshape((1, size))\n",
        "    count = 0.\n",
        "    for word in tokens:\n",
        "        try:\n",
        "            vec += tweet_w2v[word].reshape((1, size)) * tfidf[word]\n",
        "            count += 1.\n",
        "        except KeyError: # handling the case where the token is not\n",
        "                         # in the corpus. useful for testing.\n",
        "            continue\n",
        "    if count != 0:\n",
        "        vec /= count\n",
        "    return vec"
      ],
      "execution_count": null,
      "outputs": []
    },
    {
      "cell_type": "code",
      "metadata": {
        "id": "23vFtP_1jdKn",
        "colab": {
          "base_uri": "https://localhost:8080/"
        },
        "outputId": "4b73a24a-c073-4ea6-e345-ead91b62927d"
      },
      "source": [
        "#tweet_w2v=Word2Vec.load('D:/ps/model/English/fasttext/coling-fasttext-eng-cbow.bin')\n",
        "#from gensim.models.wrappers import FastText\n",
        "\n",
        "#tweet_w2v= FastText.load_fasttext_format('D:/ps/model/English/fasttext/coling-fasttext-eng-cbow')\n",
        "\n",
        "n_dim=300\n",
        "from sklearn.preprocessing import scale\n",
        "train_vecs_w2v = np.concatenate([buildWordVector(z, n_dim) for z in tqdm(map(lambda x: x.words, x_train))])\n",
        "train_vecs_w2v = scale(train_vecs_w2v)\n",
        "\n",
        "\n",
        "\n",
        "#test_vecs_w2v = np.concatenate([buildWordVector(z, n_dim) for z in tqdm(map(lambda x: x.words, x_test))])\n",
        "#test_vecs_w2v = scale(test_vecs_w2v)\n",
        "\n"
      ],
      "execution_count": null,
      "outputs": [
        {
          "output_type": "stream",
          "name": "stderr",
          "text": [
            "\n",
            "0it [00:00, ?it/s]\u001b[A\n",
            "571it [00:00, 5703.63it/s]\u001b[A\n",
            "1142it [00:00, 5677.57it/s]\u001b[A\n",
            "1736it [00:00, 5794.22it/s]\u001b[A\n",
            "2379it [00:00, 6039.24it/s]\u001b[A\n",
            "2983it [00:00, 5712.75it/s]\u001b[A\n",
            "3605it [00:00, 5874.08it/s]\u001b[A\n",
            "4195it [00:00, 5584.37it/s]\u001b[A\n",
            "4758it [00:00, 5414.40it/s]\u001b[A\n",
            "5303it [00:00, 5368.86it/s]\u001b[A\n",
            "5842it [00:01, 5158.53it/s]\u001b[A\n",
            "6387it [00:01, 5241.75it/s]\u001b[A\n",
            "6996it [00:01, 5487.41it/s]\u001b[A\n",
            "7548it [00:01, 5482.79it/s]\u001b[A\n",
            "8099it [00:01, 5275.62it/s]\u001b[A\n",
            "8633it [00:01, 5292.59it/s]\u001b[A\n",
            "9165it [00:01, 5211.36it/s]\u001b[A\n",
            "9704it [00:01, 5261.03it/s]\u001b[A\n",
            "10232it [00:01, 5253.48it/s]\u001b[A\n",
            "10759it [00:01, 5255.63it/s]\u001b[A\n",
            "11286it [00:02, 5169.36it/s]\u001b[A\n",
            "11920it [00:02, 5512.48it/s]\u001b[A\n",
            "12533it [00:02, 5692.30it/s]\u001b[A\n",
            "13240it [00:02, 5504.02it/s]\n"
          ]
        }
      ]
    },
    {
      "cell_type": "markdown",
      "metadata": {
        "id": "ePPCgrM336bl"
      },
      "source": [
        "###Shape\n",
        "train_vecs_w2v.shape\n",
        "test_vecs_w2v.shape\n",
        "train_vecs_w2v[0]"
      ]
    },
    {
      "cell_type": "code",
      "metadata": {
        "id": "70_llh8XjdKq",
        "colab": {
          "base_uri": "https://localhost:8080/"
        },
        "outputId": "485d3e43-a9e6-412b-bbed-a61c14422b1d"
      },
      "source": [
        "from sklearn.linear_model import LogisticRegression\n",
        "from sklearn.svm import LinearSVC\n",
        "from sklearn.naive_bayes import GaussianNB\n",
        "\n",
        "\n",
        "\n",
        "clf = LogisticRegression()\n",
        "#clf=LinearSVC()\n",
        "\n",
        "clf.fit(train_vecs_w2v, y_train)\n",
        "\n",
        "#print(clf.score(valid_vecs_w2v, y_valid))\n",
        "#clf.score(test_vecs_w2v,y_test)\n"
      ],
      "execution_count": null,
      "outputs": [
        {
          "output_type": "execute_result",
          "data": {
            "text/plain": [
              "LogisticRegression()"
            ]
          },
          "metadata": {},
          "execution_count": 28
        }
      ]
    },
    {
      "cell_type": "code",
      "source": [
        "import pickle\n",
        "filename = 'Logistic_regression.pkl'\n",
        "pickle.dump(clf, open(filename, 'wb'))"
      ],
      "metadata": {
        "id": "FwLTFN2UiWeo"
      },
      "execution_count": null,
      "outputs": []
    },
    {
      "cell_type": "code",
      "source": [
        ""
      ],
      "metadata": {
        "id": "-s4L7sLfioHP"
      },
      "execution_count": null,
      "outputs": []
    },
    {
      "cell_type": "code",
      "metadata": {
        "id": "E9f-V9G72W5T",
        "colab": {
          "base_uri": "https://localhost:8080/",
          "height": 234
        },
        "outputId": "190f5eea-3a22-464c-9453-f17beb750d1e"
      },
      "source": [
        "from sklearn import metrics\n",
        "\n",
        "#y_pred_class = clf.predict(test_vecs_w2v)\n",
        "\n",
        "print(metrics.accuracy_score(y_test, y_pred_class))\n",
        "\n",
        "print(metrics.confusion_matrix(y_test, y_pred_class))\n",
        "print (metrics.precision_score(y_test, y_pred_class,average= 'weighted'))\n",
        "print(metrics.recall_score(y_test, y_pred_class,average= 'weighted'))\n",
        "print (metrics.f1_score(y_test, y_pred_class, average= 'weighted'))\n",
        "#print (metrics.f1_score(y_test, y_pred_class))\n",
        "print(metrics.classification_report(y_test, y_pred_class,target_names=['0','1']))\n"
      ],
      "execution_count": null,
      "outputs": [
        {
          "output_type": "error",
          "ename": "NameError",
          "evalue": "ignored",
          "traceback": [
            "\u001b[0;31m---------------------------------------------------------------------------\u001b[0m",
            "\u001b[0;31mNameError\u001b[0m                                 Traceback (most recent call last)",
            "\u001b[0;32m<ipython-input-31-8df03c1d54d6>\u001b[0m in \u001b[0;36m<module>\u001b[0;34m()\u001b[0m\n\u001b[1;32m      3\u001b[0m \u001b[0;31m#y_pred_class = clf.predict(test_vecs_w2v)\u001b[0m\u001b[0;34m\u001b[0m\u001b[0;34m\u001b[0m\u001b[0;34m\u001b[0m\u001b[0m\n\u001b[1;32m      4\u001b[0m \u001b[0;34m\u001b[0m\u001b[0m\n\u001b[0;32m----> 5\u001b[0;31m \u001b[0mprint\u001b[0m\u001b[0;34m(\u001b[0m\u001b[0mmetrics\u001b[0m\u001b[0;34m.\u001b[0m\u001b[0maccuracy_score\u001b[0m\u001b[0;34m(\u001b[0m\u001b[0my_test\u001b[0m\u001b[0;34m,\u001b[0m \u001b[0my_pred_class\u001b[0m\u001b[0;34m)\u001b[0m\u001b[0;34m)\u001b[0m\u001b[0;34m\u001b[0m\u001b[0;34m\u001b[0m\u001b[0m\n\u001b[0m\u001b[1;32m      6\u001b[0m \u001b[0;34m\u001b[0m\u001b[0m\n\u001b[1;32m      7\u001b[0m \u001b[0mprint\u001b[0m\u001b[0;34m(\u001b[0m\u001b[0mmetrics\u001b[0m\u001b[0;34m.\u001b[0m\u001b[0mconfusion_matrix\u001b[0m\u001b[0;34m(\u001b[0m\u001b[0my_test\u001b[0m\u001b[0;34m,\u001b[0m \u001b[0my_pred_class\u001b[0m\u001b[0;34m)\u001b[0m\u001b[0;34m)\u001b[0m\u001b[0;34m\u001b[0m\u001b[0;34m\u001b[0m\u001b[0m\n",
            "\u001b[0;31mNameError\u001b[0m: name 'y_test' is not defined"
          ]
        }
      ]
    },
    {
      "cell_type": "code",
      "metadata": {
        "id": "ofPitkIpwSVw"
      },
      "source": [
        ""
      ],
      "execution_count": null,
      "outputs": []
    },
    {
      "cell_type": "code",
      "metadata": {
        "id": "vWWxCIBowSYZ"
      },
      "source": [
        ""
      ],
      "execution_count": null,
      "outputs": []
    },
    {
      "cell_type": "code",
      "metadata": {
        "id": "F2Oh2CrJwSbG"
      },
      "source": [
        ""
      ],
      "execution_count": null,
      "outputs": []
    },
    {
      "cell_type": "code",
      "metadata": {
        "id": "FRCrqIhZwSdg"
      },
      "source": [
        ""
      ],
      "execution_count": null,
      "outputs": []
    },
    {
      "cell_type": "code",
      "metadata": {
        "id": "wE1XoXX6wSgJ"
      },
      "source": [
        ""
      ],
      "execution_count": null,
      "outputs": []
    },
    {
      "cell_type": "code",
      "metadata": {
        "id": "RQRe5zuxwSij"
      },
      "source": [
        ""
      ],
      "execution_count": null,
      "outputs": []
    },
    {
      "cell_type": "code",
      "metadata": {
        "id": "wPJRRrC-wSlB"
      },
      "source": [
        ""
      ],
      "execution_count": null,
      "outputs": []
    },
    {
      "cell_type": "code",
      "metadata": {
        "id": "m1ezpwwljdKt"
      },
      "source": [
        "from sklearn.svm import LinearSVC\n",
        "from sklearn.ensemble import AdaBoostClassifier\n",
        "from sklearn.naive_bayes import MultinomialNB, BernoulliNB\n",
        "from sklearn.linear_model import RidgeClassifier\n",
        "from sklearn.linear_model import PassiveAggressiveClassifier\n",
        "from sklearn.linear_model import Perceptron\n",
        "from sklearn.neighbors import NearestCentroid\n",
        "from sklearn.feature_selection import SelectFromModel\n",
        "from sklearn.pipeline import Pipeline\n",
        "from sklearn.ensemble import RandomForestClassifier\n",
        "from sklearn.svm import LinearSVC\n",
        "from sklearn.neighbors import KNeighborsClassifier\n",
        "from sklearn.linear_model import SGDClassifier\n",
        "from sklearn.tree import DecisionTreeClassifier\n",
        "from sklearn.linear_model import LogisticRegression\n",
        "\n",
        "\n",
        "\n",
        "\n",
        "names = [\"Logistic Regression\", \"KNN\",\"Linear SVC\",\"DC\",\"SGD\",\"RF\",\"LinearSVC with L1-based feature selection\", \n",
        "         \"Bernoulli NB\", \"Ridge Classifier\", \"AdaBoost\", \"Perceptron\",\"Passive-Aggresive\", \"Nearest C4entroid\"]\n",
        "classifiers = [\n",
        "    LogisticRegression(),\n",
        "    KNeighborsClassifier(),\n",
        "    LinearSVC(),\n",
        "    DecisionTreeClassifier(),\n",
        "    SGDClassifier(),\n",
        "    RandomForestClassifier(),\n",
        "    Pipeline([\n",
        "  ('feature_selection', SelectFromModel(LinearSVC(penalty=\"l1\", dual=False))),\n",
        "  ('classification', LinearSVC(penalty=\"l2\"))]),\n",
        "    BernoulliNB(),\n",
        "    RidgeClassifier(),\n",
        "    AdaBoostClassifier(),\n",
        "    Perceptron(),\n",
        "    PassiveAggressiveClassifier(),\n",
        "    NearestCentroid()\n",
        "    ]\n",
        "zipped_clf = zip(names,classifiers)"
      ],
      "execution_count": null,
      "outputs": []
    },
    {
      "cell_type": "markdown",
      "metadata": {
        "id": "J3UVLXDJjdKy"
      },
      "source": [
        "\n",
        "\n",
        "```\n",
        "`# This is formatted as code`\n",
        "```\n",
        "\n",
        "names = [\"Logistic Regression\", \"KNN\"]\n",
        "classifiers = [\n",
        "    LogisticRegression(),\n",
        "    KNeighborsClassifier(),\n",
        "    ]\n",
        "zipped_clf = zip(names,classifiers)"
      ]
    },
    {
      "cell_type": "code",
      "metadata": {
        "id": "PPB178ZcjdK2"
      },
      "source": [
        "from time import time\n",
        "from sklearn import metrics\n",
        "\n",
        "\n",
        "def accuracy_summary(pipeline, x_train1, y_train1,x_test1,y_test1,tx_test1,ty_test1):#, x_valid1, y_valid1,\n",
        "    t0 = time()\n",
        "    sentiment_fit = pipeline.fit(x_train1, y_train1)\n",
        "    y_pred = sentiment_fit.predict(tx_test1)\n",
        "    train_test_time = time() - t0\n",
        "    #accuracy = accuracy_score(y_test, y_pred)\n",
        "    accuracy= (metrics.accuracy_score(ty_test1, y_pred))\n",
        "    #print (\"accuracy score: {0:.2f}%\".format(accuracy*100))\n",
        "    #print (\"train and test time: {0:.2f}s\".format(train_test_time))\n",
        "    print (\"-\"*80)\n",
        "    \n",
        "  \n",
        "    p= metrics.precision_score(ty_test1, y_pred,average= 'weighted')\n",
        "    r = metrics.recall_score(ty_test1, y_pred,average= 'weighted')\n",
        "    f=metrics.f1_score(ty_test1, y_pred, average= 'weighted')\n",
        "    \n",
        "    \n",
        "    \n",
        "    \n",
        "    y_predt = sentiment_fit.predict(x_test1)\n",
        "    #train_test_time = time() - t0\n",
        "    #accuracy = accuracy_score(y_test, y_pred)\n",
        "    accuracy2= (metrics.accuracy_score(y_test1, y_predt))\n",
        "    #print (\"accuracy score: {0:.2f}%\".format(accuracy*100))\n",
        "    #print (\"train and test time: {0:.2f}s\".format(train_test_time))\n",
        "    print (\"-\"*80)\n",
        "    \n",
        "  \n",
        "    tp= metrics.precision_score(y_test1, y_predt,average= 'weighted')\n",
        "    tr = metrics.recall_score(y_test1, y_predt,average= 'weighted')\n",
        "    tf=metrics.f1_score(y_test1, y_predt, average= 'weighted')\n",
        "\n",
        "    \n",
        "    \n",
        "    \n",
        "    ty_pred = sentiment_fit.predict(tx_test1)\n",
        "    #train_test_time = time() - t0\n",
        "    #accuracy = accuracy_score(y_test, y_pred)\n",
        "    accuracy3= (metrics.accuracy_score(ty_test1, ty_pred))\n",
        "    #print (\"accuracy score: {0:.2f}%\".format(accuracy*100))\n",
        "    #print (\"train and test time: {0:.2f}s\".format(train_test_time))\n",
        "    print (\"-\"*80)\n",
        "    \n",
        "  \n",
        "    ttp= metrics.precision_score(ty_test1,ty_pred,average= 'weighted')\n",
        "    ttr = metrics.recall_score(ty_test1, ty_pred,average= 'weighted')\n",
        "    ttf=metrics.f1_score(ty_test1, ty_pred, average= 'weighted')\n",
        "\n",
        "    \n",
        "    \n",
        "    \n",
        "    \n",
        "    return accuracy, p,r,f,accuracy2,tp,tr,tf,accuracy3,ttp,ttr,ttf\n"
      ],
      "execution_count": null,
      "outputs": []
    },
    {
      "cell_type": "code",
      "metadata": {
        "id": "xuzNZXEhjdK6",
        "colab": {
          "base_uri": "https://localhost:8080/",
          "height": 1000
        },
        "outputId": "38b1d45c-18be-46b2-9fb4-f06852383bec"
      },
      "source": [
        "def classifier_comparator():\n",
        "    result1 = []\n",
        "    result2 = []\n",
        "    result3 = []\n",
        "\n",
        "    classifier=zipped_clf\n",
        "    \n",
        "    for n,c in classifier:\n",
        "        checker_pipeline = Pipeline([\n",
        "                     ('classifier', c)\n",
        "        ])\n",
        "        print (\"Validation result for {}\".format(n))\n",
        "        print (c)\n",
        "        #clf_accuracy,p,r,f,tt_time = accuracy_summary(checker_pipeline, train_vecs_dbow, y_train, validation_vecs_dbow, y_valid)\n",
        "        #clf_accuracy,p,r,f,tt_time = accuracy_summary(checker_pipeline, train_vecs_dmc, y_train, validation_vecs_dmc, y_valid)\n",
        "        a1,p,r,f,a2,p2,r2,f2,a3,p3,r3,f3 = accuracy_summary(checker_pipeline,train_vecs_w2v,y_train,test_vecs_w2v,y_test,test_vecs_w2v,y_test)#y_valid\n",
        "\n",
        "        result1.append((n,a1,p,r,f))\n",
        "        result2.append((n,a2,p2,r2,f2))\n",
        "        result3.append((n,a3,p3,r3,f3))\n",
        "\n",
        "    return result1,result2,result3\n",
        "\n",
        "trigram_result,trigram_result2,trigram_result3 = classifier_comparator()\n",
        "#trigram_result = classifier_comparator()\n",
        "#trigram_result = classifier_comparator()\n",
        "\n",
        "from pandas import ExcelWriter\n",
        "from pandas import ExcelFile\n",
        "\n",
        "df = pd.DataFrame(trigram_result)\n",
        "df.columns=['classifier','acc','p','r','f1']\n",
        "\n",
        " \n",
        "writer = ExcelWriter('FB_hi_w2vec_cbow.xlsx',engine='openpyxl')\n",
        "df.to_excel(writer,'valid',index=False)\n",
        "writer.save()\n",
        "\n",
        "df = pd.DataFrame(trigram_result2)\n",
        "df.columns=['classifier','acc','p','r','f1']\n",
        "\n",
        " \n",
        "#writer = ExcelWriter('FB_English_valid_fasttext_cbow.xlsx',engine='openpyxl')\n",
        "df.to_excel(writer,'test',index=False)\n",
        "writer.save()\n",
        "\n",
        "df = pd.DataFrame(trigram_result3)\n",
        "df.columns=['classifier','acc','p','r','f1']\n",
        "\n",
        " \n",
        "#writer = ExcelWriter('FB_English_valid_fasttext_cbow.xlsx',engine='openpyxl')\n",
        "df.to_excel(writer,'ttransfer',index=False)\n",
        "#writer.save()\n",
        "df.head()"
      ],
      "execution_count": null,
      "outputs": [
        {
          "output_type": "stream",
          "name": "stdout",
          "text": [
            "Validation result for Logistic Regression\n",
            "LogisticRegression()\n"
          ]
        },
        {
          "output_type": "stream",
          "name": "stderr",
          "text": [
            "/usr/local/lib/python3.7/dist-packages/sklearn/linear_model/_logistic.py:818: ConvergenceWarning: lbfgs failed to converge (status=1):\n",
            "STOP: TOTAL NO. of ITERATIONS REACHED LIMIT.\n",
            "\n",
            "Increase the number of iterations (max_iter) or scale the data as shown in:\n",
            "    https://scikit-learn.org/stable/modules/preprocessing.html\n",
            "Please also refer to the documentation for alternative solver options:\n",
            "    https://scikit-learn.org/stable/modules/linear_model.html#logistic-regression\n",
            "  extra_warning_msg=_LOGISTIC_SOLVER_CONVERGENCE_MSG,\n"
          ]
        },
        {
          "output_type": "stream",
          "name": "stdout",
          "text": [
            "--------------------------------------------------------------------------------\n",
            "--------------------------------------------------------------------------------\n",
            "--------------------------------------------------------------------------------\n",
            "Validation result for KNN\n",
            "KNeighborsClassifier()\n",
            "--------------------------------------------------------------------------------\n",
            "--------------------------------------------------------------------------------\n",
            "--------------------------------------------------------------------------------\n",
            "Validation result for Linear SVC\n",
            "LinearSVC()\n"
          ]
        },
        {
          "output_type": "stream",
          "name": "stderr",
          "text": [
            "/usr/local/lib/python3.7/dist-packages/sklearn/svm/_base.py:1208: ConvergenceWarning: Liblinear failed to converge, increase the number of iterations.\n",
            "  ConvergenceWarning,\n"
          ]
        },
        {
          "output_type": "stream",
          "name": "stdout",
          "text": [
            "--------------------------------------------------------------------------------\n",
            "--------------------------------------------------------------------------------\n",
            "--------------------------------------------------------------------------------\n",
            "Validation result for DC\n",
            "DecisionTreeClassifier()\n",
            "--------------------------------------------------------------------------------\n",
            "--------------------------------------------------------------------------------\n",
            "--------------------------------------------------------------------------------\n",
            "Validation result for SGD\n",
            "SGDClassifier()\n",
            "--------------------------------------------------------------------------------\n",
            "--------------------------------------------------------------------------------\n",
            "--------------------------------------------------------------------------------\n",
            "Validation result for RF\n",
            "RandomForestClassifier()\n",
            "--------------------------------------------------------------------------------\n",
            "--------------------------------------------------------------------------------\n",
            "--------------------------------------------------------------------------------\n",
            "Validation result for LinearSVC with L1-based feature selection\n",
            "Pipeline(steps=[('feature_selection',\n",
            "                 SelectFromModel(estimator=LinearSVC(dual=False,\n",
            "                                                     penalty='l1'))),\n",
            "                ('classification', LinearSVC())])\n"
          ]
        },
        {
          "output_type": "stream",
          "name": "stderr",
          "text": [
            "/usr/local/lib/python3.7/dist-packages/sklearn/svm/_base.py:1208: ConvergenceWarning: Liblinear failed to converge, increase the number of iterations.\n",
            "  ConvergenceWarning,\n",
            "/usr/local/lib/python3.7/dist-packages/sklearn/svm/_base.py:1208: ConvergenceWarning: Liblinear failed to converge, increase the number of iterations.\n",
            "  ConvergenceWarning,\n"
          ]
        },
        {
          "output_type": "stream",
          "name": "stdout",
          "text": [
            "--------------------------------------------------------------------------------\n",
            "--------------------------------------------------------------------------------\n",
            "--------------------------------------------------------------------------------\n",
            "Validation result for Bernoulli NB\n",
            "BernoulliNB()\n",
            "--------------------------------------------------------------------------------\n",
            "--------------------------------------------------------------------------------\n",
            "--------------------------------------------------------------------------------\n",
            "Validation result for Ridge Classifier\n",
            "RidgeClassifier()\n",
            "--------------------------------------------------------------------------------\n",
            "--------------------------------------------------------------------------------\n",
            "--------------------------------------------------------------------------------\n",
            "Validation result for AdaBoost\n",
            "AdaBoostClassifier()\n",
            "--------------------------------------------------------------------------------\n",
            "--------------------------------------------------------------------------------\n",
            "--------------------------------------------------------------------------------\n",
            "Validation result for Perceptron\n",
            "Perceptron()\n",
            "--------------------------------------------------------------------------------\n",
            "--------------------------------------------------------------------------------\n",
            "--------------------------------------------------------------------------------\n",
            "Validation result for Passive-Aggresive\n",
            "PassiveAggressiveClassifier()\n",
            "--------------------------------------------------------------------------------\n",
            "--------------------------------------------------------------------------------\n",
            "--------------------------------------------------------------------------------\n",
            "Validation result for Nearest C4entroid\n",
            "NearestCentroid()\n",
            "--------------------------------------------------------------------------------\n",
            "--------------------------------------------------------------------------------\n",
            "--------------------------------------------------------------------------------\n"
          ]
        },
        {
          "output_type": "execute_result",
          "data": {
            "text/html": [
              "\n",
              "  <div id=\"df-6dee641e-3a92-4f39-ace3-8b7a618d53e0\">\n",
              "    <div class=\"colab-df-container\">\n",
              "      <div>\n",
              "<style scoped>\n",
              "    .dataframe tbody tr th:only-of-type {\n",
              "        vertical-align: middle;\n",
              "    }\n",
              "\n",
              "    .dataframe tbody tr th {\n",
              "        vertical-align: top;\n",
              "    }\n",
              "\n",
              "    .dataframe thead th {\n",
              "        text-align: right;\n",
              "    }\n",
              "</style>\n",
              "<table border=\"1\" class=\"dataframe\">\n",
              "  <thead>\n",
              "    <tr style=\"text-align: right;\">\n",
              "      <th></th>\n",
              "      <th>classifier</th>\n",
              "      <th>acc</th>\n",
              "      <th>p</th>\n",
              "      <th>r</th>\n",
              "      <th>f1</th>\n",
              "    </tr>\n",
              "  </thead>\n",
              "  <tbody>\n",
              "    <tr>\n",
              "      <th>0</th>\n",
              "      <td>Logistic Regression</td>\n",
              "      <td>0.707704</td>\n",
              "      <td>0.684602</td>\n",
              "      <td>0.707704</td>\n",
              "      <td>0.667816</td>\n",
              "    </tr>\n",
              "    <tr>\n",
              "      <th>1</th>\n",
              "      <td>KNN</td>\n",
              "      <td>0.651057</td>\n",
              "      <td>0.640367</td>\n",
              "      <td>0.651057</td>\n",
              "      <td>0.644808</td>\n",
              "    </tr>\n",
              "    <tr>\n",
              "      <th>2</th>\n",
              "      <td>Linear SVC</td>\n",
              "      <td>0.657855</td>\n",
              "      <td>0.637644</td>\n",
              "      <td>0.657855</td>\n",
              "      <td>0.644092</td>\n",
              "    </tr>\n",
              "    <tr>\n",
              "      <th>3</th>\n",
              "      <td>DC</td>\n",
              "      <td>0.595921</td>\n",
              "      <td>0.599710</td>\n",
              "      <td>0.595921</td>\n",
              "      <td>0.597745</td>\n",
              "    </tr>\n",
              "    <tr>\n",
              "      <th>4</th>\n",
              "      <td>SGD</td>\n",
              "      <td>0.678248</td>\n",
              "      <td>0.657683</td>\n",
              "      <td>0.678248</td>\n",
              "      <td>0.662765</td>\n",
              "    </tr>\n",
              "  </tbody>\n",
              "</table>\n",
              "</div>\n",
              "      <button class=\"colab-df-convert\" onclick=\"convertToInteractive('df-6dee641e-3a92-4f39-ace3-8b7a618d53e0')\"\n",
              "              title=\"Convert this dataframe to an interactive table.\"\n",
              "              style=\"display:none;\">\n",
              "        \n",
              "  <svg xmlns=\"http://www.w3.org/2000/svg\" height=\"24px\"viewBox=\"0 0 24 24\"\n",
              "       width=\"24px\">\n",
              "    <path d=\"M0 0h24v24H0V0z\" fill=\"none\"/>\n",
              "    <path d=\"M18.56 5.44l.94 2.06.94-2.06 2.06-.94-2.06-.94-.94-2.06-.94 2.06-2.06.94zm-11 1L8.5 8.5l.94-2.06 2.06-.94-2.06-.94L8.5 2.5l-.94 2.06-2.06.94zm10 10l.94 2.06.94-2.06 2.06-.94-2.06-.94-.94-2.06-.94 2.06-2.06.94z\"/><path d=\"M17.41 7.96l-1.37-1.37c-.4-.4-.92-.59-1.43-.59-.52 0-1.04.2-1.43.59L10.3 9.45l-7.72 7.72c-.78.78-.78 2.05 0 2.83L4 21.41c.39.39.9.59 1.41.59.51 0 1.02-.2 1.41-.59l7.78-7.78 2.81-2.81c.8-.78.8-2.07 0-2.86zM5.41 20L4 18.59l7.72-7.72 1.47 1.35L5.41 20z\"/>\n",
              "  </svg>\n",
              "      </button>\n",
              "      \n",
              "  <style>\n",
              "    .colab-df-container {\n",
              "      display:flex;\n",
              "      flex-wrap:wrap;\n",
              "      gap: 12px;\n",
              "    }\n",
              "\n",
              "    .colab-df-convert {\n",
              "      background-color: #E8F0FE;\n",
              "      border: none;\n",
              "      border-radius: 50%;\n",
              "      cursor: pointer;\n",
              "      display: none;\n",
              "      fill: #1967D2;\n",
              "      height: 32px;\n",
              "      padding: 0 0 0 0;\n",
              "      width: 32px;\n",
              "    }\n",
              "\n",
              "    .colab-df-convert:hover {\n",
              "      background-color: #E2EBFA;\n",
              "      box-shadow: 0px 1px 2px rgba(60, 64, 67, 0.3), 0px 1px 3px 1px rgba(60, 64, 67, 0.15);\n",
              "      fill: #174EA6;\n",
              "    }\n",
              "\n",
              "    [theme=dark] .colab-df-convert {\n",
              "      background-color: #3B4455;\n",
              "      fill: #D2E3FC;\n",
              "    }\n",
              "\n",
              "    [theme=dark] .colab-df-convert:hover {\n",
              "      background-color: #434B5C;\n",
              "      box-shadow: 0px 1px 3px 1px rgba(0, 0, 0, 0.15);\n",
              "      filter: drop-shadow(0px 1px 2px rgba(0, 0, 0, 0.3));\n",
              "      fill: #FFFFFF;\n",
              "    }\n",
              "  </style>\n",
              "\n",
              "      <script>\n",
              "        const buttonEl =\n",
              "          document.querySelector('#df-6dee641e-3a92-4f39-ace3-8b7a618d53e0 button.colab-df-convert');\n",
              "        buttonEl.style.display =\n",
              "          google.colab.kernel.accessAllowed ? 'block' : 'none';\n",
              "\n",
              "        async function convertToInteractive(key) {\n",
              "          const element = document.querySelector('#df-6dee641e-3a92-4f39-ace3-8b7a618d53e0');\n",
              "          const dataTable =\n",
              "            await google.colab.kernel.invokeFunction('convertToInteractive',\n",
              "                                                     [key], {});\n",
              "          if (!dataTable) return;\n",
              "\n",
              "          const docLinkHtml = 'Like what you see? Visit the ' +\n",
              "            '<a target=\"_blank\" href=https://colab.research.google.com/notebooks/data_table.ipynb>data table notebook</a>'\n",
              "            + ' to learn more about interactive tables.';\n",
              "          element.innerHTML = '';\n",
              "          dataTable['output_type'] = 'display_data';\n",
              "          await google.colab.output.renderOutput(dataTable, element);\n",
              "          const docLink = document.createElement('div');\n",
              "          docLink.innerHTML = docLinkHtml;\n",
              "          element.appendChild(docLink);\n",
              "        }\n",
              "      </script>\n",
              "    </div>\n",
              "  </div>\n",
              "  "
            ],
            "text/plain": [
              "            classifier       acc         p         r        f1\n",
              "0  Logistic Regression  0.707704  0.684602  0.707704  0.667816\n",
              "1                  KNN  0.651057  0.640367  0.651057  0.644808\n",
              "2           Linear SVC  0.657855  0.637644  0.657855  0.644092\n",
              "3                   DC  0.595921  0.599710  0.595921  0.597745\n",
              "4                  SGD  0.678248  0.657683  0.678248  0.662765"
            ]
          },
          "metadata": {},
          "execution_count": 26
        }
      ]
    },
    {
      "cell_type": "code",
      "source": [
        ""
      ],
      "metadata": {
        "id": "jC1UIk2t-TCX"
      },
      "execution_count": null,
      "outputs": []
    },
    {
      "cell_type": "code",
      "source": [
        ""
      ],
      "metadata": {
        "id": "w5n8DNTb-Tbq"
      },
      "execution_count": null,
      "outputs": []
    },
    {
      "cell_type": "code",
      "source": [
        ""
      ],
      "metadata": {
        "id": "SjF8e3iX-Tek"
      },
      "execution_count": null,
      "outputs": []
    },
    {
      "cell_type": "code",
      "source": [
        ""
      ],
      "metadata": {
        "id": "-Df1jZdM-Th6"
      },
      "execution_count": null,
      "outputs": []
    },
    {
      "cell_type": "code",
      "metadata": {
        "id": "EvfCXGfYjdLA",
        "colab": {
          "base_uri": "https://localhost:8080/"
        },
        "outputId": "6546483b-bad6-4b32-d657-bbce9fc99f88"
      },
      "source": [
        "from sklearn.preprocessing import LabelEncoder\n",
        "from keras.utils import np_utils\n",
        "\n",
        "encoder = LabelEncoder()\n",
        "encoder.fit(y_train)\n",
        "encoded_Y = encoder.transform(y_train)\n",
        "# convert integers to dummy variables (i.e. one hot encoded)\n",
        "dummy_y = np_utils.to_categorical(encoded_Y)\n",
        "dummy_y\n",
        "\n",
        "#encoder = LabelEncoder()\n",
        "#encoder.fit(y_valid)\n",
        "#vencoded_Y = encoder.transform(y_valid)\n",
        "# convert integers to dummy variables (i.e. one hot encoded)\n",
        "#vdummy_y = np_utils.to_categorical(vencoded_Y)\n",
        "#vdummy_y\n",
        "\n",
        "\n",
        "\n",
        "encoder = LabelEncoder()\n",
        "encoder.fit(y_test)\n",
        "tencoded_Y = encoder.transform(y_test)\n",
        "# convert integers to dummy variables (i.e. one hot encoded)\n",
        "tdummy_y = np_utils.to_categorical(tencoded_Y)\n",
        "tdummy_y"
      ],
      "execution_count": null,
      "outputs": [
        {
          "output_type": "execute_result",
          "data": {
            "text/plain": [
              "array([[1., 0.],\n",
              "       [0., 1.],\n",
              "       [0., 1.],\n",
              "       ...,\n",
              "       [0., 1.],\n",
              "       [0., 1.],\n",
              "       [0., 1.]], dtype=float32)"
            ]
          },
          "metadata": {},
          "execution_count": 27
        }
      ]
    },
    {
      "cell_type": "code",
      "metadata": {
        "id": "1mdhsGc8jdLD",
        "colab": {
          "base_uri": "https://localhost:8080/"
        },
        "outputId": "ac78685a-3760-4df1-9897-19a69812cead"
      },
      "source": [
        "from keras.models import Sequential\n",
        "model = Sequential()\n",
        "model.add(Dense(7, activation='relu', input_dim=400))\n",
        "#model.add(Dense(256, activation='relu', input_dim=300))\n",
        "#model.add(Dense(256, activation='relu', input_dim=300))\n",
        "\n",
        "model.add(Dense(2, activation='softmax'))\n",
        "model.compile(optimizer='rmsprop',\n",
        "              loss='categorical_crossentropy',\n",
        "              metrics=['accuracy'])\n",
        "\n",
        "model.fit(train_vecs_w2v,dummy_y, epochs=12, batch_size=8, verbose=2)#validation_data=(valid_vecs_w2v, vdummy_y),"
      ],
      "execution_count": null,
      "outputs": [
        {
          "output_type": "stream",
          "name": "stdout",
          "text": [
            "Epoch 1/12\n",
            "1490/1490 - 2s - loss: 0.6622 - accuracy: 0.6475 - 2s/epoch - 2ms/step\n",
            "Epoch 2/12\n",
            "1490/1490 - 2s - loss: 0.5894 - accuracy: 0.6937 - 2s/epoch - 1ms/step\n",
            "Epoch 3/12\n",
            "1490/1490 - 2s - loss: 0.5819 - accuracy: 0.6982 - 2s/epoch - 1ms/step\n",
            "Epoch 4/12\n",
            "1490/1490 - 2s - loss: 0.5762 - accuracy: 0.6986 - 2s/epoch - 1ms/step\n",
            "Epoch 5/12\n",
            "1490/1490 - 2s - loss: 0.5718 - accuracy: 0.7066 - 2s/epoch - 1ms/step\n",
            "Epoch 6/12\n",
            "1490/1490 - 2s - loss: 0.5699 - accuracy: 0.7049 - 2s/epoch - 1ms/step\n",
            "Epoch 7/12\n",
            "1490/1490 - 2s - loss: 0.5659 - accuracy: 0.7086 - 2s/epoch - 1ms/step\n",
            "Epoch 8/12\n",
            "1490/1490 - 2s - loss: 0.5626 - accuracy: 0.7113 - 2s/epoch - 1ms/step\n",
            "Epoch 9/12\n",
            "1490/1490 - 2s - loss: 0.5593 - accuracy: 0.7124 - 2s/epoch - 1ms/step\n",
            "Epoch 10/12\n",
            "1490/1490 - 2s - loss: 0.5597 - accuracy: 0.7127 - 2s/epoch - 1ms/step\n",
            "Epoch 11/12\n",
            "1490/1490 - 2s - loss: 0.5589 - accuracy: 0.7137 - 2s/epoch - 1ms/step\n",
            "Epoch 12/12\n",
            "1490/1490 - 2s - loss: 0.5560 - accuracy: 0.7206 - 2s/epoch - 1ms/step\n"
          ]
        },
        {
          "output_type": "execute_result",
          "data": {
            "text/plain": [
              "<keras.callbacks.History at 0x7f849e191ad0>"
            ]
          },
          "metadata": {},
          "execution_count": 33
        }
      ]
    },
    {
      "cell_type": "code",
      "metadata": {
        "id": "nYb27Jj4jdLI",
        "colab": {
          "base_uri": "https://localhost:8080/"
        },
        "outputId": "b57a8bfd-ded4-4053-ea47-8fcfd32ac38f"
      },
      "source": [
        "#score = model.evaluate(valid_vecs_w2v, vdummy_y, batch_size=8, verbose=2)\n",
        "#print (score[1])\n",
        "\n",
        "score = model.evaluate(test_vecs_w2v, tdummy_y, batch_size=8, verbose=2)\n",
        "print (score[1])\n",
        "\n"
      ],
      "execution_count": null,
      "outputs": [
        {
          "output_type": "stream",
          "name": "stdout",
          "text": [
            "166/166 - 0s - loss: 0.5741 - accuracy: 0.7047 - 329ms/epoch - 2ms/step\n",
            "0.7046827673912048\n"
          ]
        }
      ]
    },
    {
      "cell_type": "code",
      "metadata": {
        "id": "_agRzBSZ2NSY"
      },
      "source": [
        ""
      ],
      "execution_count": null,
      "outputs": []
    },
    {
      "cell_type": "code",
      "metadata": {
        "id": "wP9fjYq02NWS"
      },
      "source": [
        ""
      ],
      "execution_count": null,
      "outputs": []
    },
    {
      "cell_type": "code",
      "metadata": {
        "id": "H72s0TGrjdLM",
        "colab": {
          "base_uri": "https://localhost:8080/"
        },
        "outputId": "000441ea-5826-4f8f-c45c-830fb39ad87f"
      },
      "source": [
        "from sklearn import metrics\n",
        "import keras\n",
        "#y_test=ty_test\n",
        "y_pred_prob=model.predict(test_vecs_w2v)\n",
        "y_pred_class = np.argmax(y_pred_prob,axis=1)\n",
        "print(metrics.confusion_matrix(y_test, y_pred_class))\n",
        "print (metrics.precision_score(y_test, y_pred_class,average= 'weighted'))\n",
        "print(metrics.recall_score(y_test, y_pred_class,average= 'weighted'))\n",
        "print (metrics.f1_score(y_test, y_pred_class, average= 'weighted'))\n",
        "#print (metrics.f1_score(y_test, y_pred_class))\n",
        "print(metrics.classification_report(y_test, y_pred_class,target_names=['0','1']))\n"
      ],
      "execution_count": null,
      "outputs": [
        {
          "output_type": "stream",
          "name": "stdout",
          "text": [
            "[[102 321]\n",
            " [ 70 831]]\n",
            "0.6803541853292817\n",
            "0.7046827794561934\n",
            "0.6604459383522667\n",
            "              precision    recall  f1-score   support\n",
            "\n",
            "           0       0.59      0.24      0.34       423\n",
            "           1       0.72      0.92      0.81       901\n",
            "\n",
            "    accuracy                           0.70      1324\n",
            "   macro avg       0.66      0.58      0.58      1324\n",
            "weighted avg       0.68      0.70      0.66      1324\n",
            "\n"
          ]
        }
      ]
    },
    {
      "cell_type": "code",
      "metadata": {
        "id": "LDAG7wSijdLP",
        "colab": {
          "base_uri": "https://localhost:8080/"
        },
        "outputId": "d9198d4f-1a90-4c50-c961-a57cc87462f9"
      },
      "source": [
        "encoder = LabelEncoder()\n",
        "encoder.fit(y_test)\n",
        "tencoded_Y = encoder.transform(y_test)\n",
        "# convert integers to dummy variables (i.e. one hot encoded)\n",
        "tdummy_y = np_utils.to_categorical(tencoded_Y)\n",
        "tdummy_y"
      ],
      "execution_count": null,
      "outputs": [
        {
          "output_type": "execute_result",
          "data": {
            "text/plain": [
              "array([[1., 0.],\n",
              "       [0., 1.],\n",
              "       [0., 1.],\n",
              "       ...,\n",
              "       [0., 1.],\n",
              "       [0., 1.],\n",
              "       [0., 1.]], dtype=float32)"
            ]
          },
          "metadata": {},
          "execution_count": 32
        }
      ]
    },
    {
      "cell_type": "code",
      "metadata": {
        "id": "Wa6rlljujdLU",
        "colab": {
          "base_uri": "https://localhost:8080/"
        },
        "outputId": "b258e413-d67d-42b9-8f2c-eacb760f8fc7"
      },
      "source": [
        "from sklearn import metrics\n",
        "import keras\n",
        "score = model.evaluate(test_vecs_w2v, tdummy_y, batch_size=8, verbose=2)\n",
        "print (score[1])\n",
        "\n",
        "y_test=y_test\n",
        "y_pred_prob=model.predict(test_vecs_w2v)\n",
        "y_pred_class = np.argmax(y_pred_prob,axis=1)\n",
        "print(metrics.confusion_matrix(y_test, y_pred_class))\n",
        "print (metrics.precision_score(y_test, y_pred_class,average= 'weighted'))\n",
        "print(metrics.recall_score(y_test, y_pred_class,average= 'weighted'))\n",
        "print (metrics.f1_score(y_test, y_pred_class, average= 'weighted'))\n",
        "#print (metrics.f1_score(y_test, y_pred_class))\n",
        "print(metrics.classification_report(y_test, y_pred_class,target_names=['0','1']))\n"
      ],
      "execution_count": null,
      "outputs": [
        {
          "output_type": "stream",
          "name": "stdout",
          "text": [
            "166/166 - 0s - loss: 0.5741 - accuracy: 0.7047 - 181ms/epoch - 1ms/step\n",
            "0.7046827673912048\n",
            "[[102 321]\n",
            " [ 70 831]]\n",
            "0.6803541853292817\n",
            "0.7046827794561934\n",
            "0.6604459383522667\n",
            "              precision    recall  f1-score   support\n",
            "\n",
            "           0       0.59      0.24      0.34       423\n",
            "           1       0.72      0.92      0.81       901\n",
            "\n",
            "    accuracy                           0.70      1324\n",
            "   macro avg       0.66      0.58      0.58      1324\n",
            "weighted avg       0.68      0.70      0.66      1324\n",
            "\n"
          ]
        }
      ]
    },
    {
      "cell_type": "code",
      "metadata": {
        "id": "MhUJZ5ksjdLX"
      },
      "source": [
        ""
      ],
      "execution_count": null,
      "outputs": []
    },
    {
      "cell_type": "code",
      "metadata": {
        "id": "ku98-I4RZ-B1"
      },
      "source": [
        ""
      ],
      "execution_count": null,
      "outputs": []
    },
    {
      "cell_type": "code",
      "metadata": {
        "id": "Ju5Cfc4zZ-Eq"
      },
      "source": [
        ""
      ],
      "execution_count": null,
      "outputs": []
    },
    {
      "cell_type": "code",
      "metadata": {
        "id": "fr0943PhZ-M-"
      },
      "source": [
        ""
      ],
      "execution_count": null,
      "outputs": []
    }
  ]
}